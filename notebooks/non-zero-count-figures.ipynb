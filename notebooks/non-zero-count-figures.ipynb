{
 "cells": [
  {
   "cell_type": "code",
   "execution_count": 1,
   "metadata": {},
   "outputs": [],
   "source": [
    "import math\n",
    "import random\n",
    "import pandas as pd\n",
    "import numpy as np\n",
    "import seaborn as sns\n",
    "import matplotlib.pyplot as plt\n",
    "from matplotlib import style\n",
    "import matplotlib as mpl\n",
    "import paste\n",
    "import scanpy as sc\n",
    "import anndata\n",
    "from sklearn.decomposition import NMF\n",
    "import scanorama\n",
    "import scipy\n",
    "\n",
    "style.use('seaborn-dark')\n",
    "mpl.rc('xtick', labelsize=14) \n",
    "mpl.rc('ytick', labelsize=14) "
   ]
  },
  {
   "cell_type": "code",
   "execution_count": 3,
   "metadata": {},
   "outputs": [],
   "source": [
    "def load_breast_layer(path):\n",
    "    X = pd.read_csv(path, delimiter = '\\t', index_col= 0)\n",
    "    coor = []\n",
    "    for c in X.index:\n",
    "        coor.append([float(x) for x in c.split('x')])\n",
    "    adata = anndata.AnnData(X = X)\n",
    "    adata.obsm['spatial'] = np.array(coor)\n",
    "    return adata"
   ]
  },
  {
   "cell_type": "code",
   "execution_count": 4,
   "metadata": {},
   "outputs": [],
   "source": [
    "layer1_path = \"../breast_cancer_data/Layer1_BC_count_matrix-1.tsv\"\n",
    "layer2_path = \"../breast_cancer_data/Layer2_BC_count_matrix-1.tsv\"\n",
    "layer3_path = \"../breast_cancer_data/Layer3_BC_count_matrix-1.tsv\"\n",
    "layer4_path = \"../breast_cancer_data/Layer4_BC_count_matrix-1.tsv\"\n",
    "\n",
    "adata_layer_1 = load_breast_layer(layer1_path)\n",
    "adata_layer_2 = load_breast_layer(layer2_path)\n",
    "adata_layer_3 = load_breast_layer(layer3_path)\n",
    "adata_layer_4 = load_breast_layer(layer4_path)"
   ]
  },
  {
   "cell_type": "code",
   "execution_count": 5,
   "metadata": {},
   "outputs": [],
   "source": [
    "def simulate_gene_exp(adata, pc = 0.25, factor = 1):\n",
    "    \"\"\"\n",
    "    Adds noise to gene expression data. The rows are simulated according to a Multinomial distribution, \n",
    "    with the total counts per spot drawn from a Negative Binomial Distribution.\n",
    "    param: pc- Pseudocount to be added to dataframe\n",
    "    param: factor - amount by which we scale the variance (to increase noise)\n",
    "    \"\"\"\n",
    "    adata_sim = adata.copy()\n",
    "    df = pd.DataFrame(adata_sim.X)\n",
    "    # add pseudocounts \n",
    "    alpha = df.copy().to_numpy() + pc\n",
    "\n",
    "    # get vector of total counts per spot\n",
    "    n = df.sum(axis=1).to_numpy()\n",
    "\n",
    "    # Simulate total counts using negative binomial\n",
    "    mean = np.mean(n)\n",
    "    var = np.var(n)*factor\n",
    "    n = sample_nb(mean, var, len(n)).astype(int)\n",
    "\n",
    "    # Reassign zero counts so we don't divide by 0 in future calcuation\n",
    "    n[n == 0] = 1\n",
    "\n",
    "    # convert to float\n",
    "    alpha = np.array(alpha, dtype=np.float64)\n",
    "    n = np.array(n, dtype=np.float64)\n",
    "\n",
    "    # convert rows to unit vectors\n",
    "    alpha = alpha/alpha.sum(axis=1)[:, None]\n",
    "\n",
    "    dist = np.empty(df.shape)\n",
    "    for i in range(alpha.shape[0]):\n",
    "        dist[i] = np.random.multinomial(n[i], alpha[i])\n",
    "    new_df = pd.DataFrame(dist, index= df.index, columns= df.columns)\n",
    "    adata_sim.X = new_df\n",
    "    return adata_sim\n",
    "\n",
    "def sample_nb(m, v, n = 1):\n",
    "    \"\"\"\n",
    "    param: m - mean\n",
    "    param: v - variance\n",
    "    param: n - number of samples\n",
    "    return: random sample from negative binomial distribution\n",
    "    \"\"\"\n",
    "    r = m**2/(v - m)\n",
    "    p = m/v\n",
    "    samples = np.random.negative_binomial(r, p, n)\n",
    "    return samples"
   ]
  },
  {
   "cell_type": "code",
   "execution_count": 8,
   "metadata": {},
   "outputs": [],
   "source": [
    "pseudocounts = [0, 0.1, 0.2, 0.5, 1, 2]\n",
    "base_layer = adata_layer_1.copy()\n",
    "a = base_layer.X\n",
    "num_genes = a.shape[1]\n",
    "b = np.count_nonzero(a, axis = 1)/num_genes\n",
    "df = pd.DataFrame({'original': b})\n",
    "for p in pseudocounts:\n",
    "    a = simulate_gene_exp(adata_layer_1, p).X\n",
    "    num_genes = a.shape[1]\n",
    "    b = np.count_nonzero(a, axis = 1)/num_genes\n",
    "    df['pc = ' + str(p)] = b"
   ]
  },
  {
   "cell_type": "code",
   "execution_count": 9,
   "metadata": {},
   "outputs": [
    {
     "data": {
      "image/png": "[encoded data removed]",
      "text/plain": [
       "<Figure size 432x288 with 1 Axes>"
      ]
     },
     "metadata": {},
     "output_type": "display_data"
    }
   ],
   "source": [
    "# Distribution of Nonzero Counts\n",
    "ax = sns.boxplot(data= df)\n",
    "ax.set(ylim=(-0.05,1.05))\n",
    "ax.set_facecolor('white')\n",
    "ax.patch.set_edgecolor('black')\n",
    "ax.patch.set_linewidth('1')  \n",
    "ax.set(xlabel='Pseudocounts', ylabel='% of Nonzero Counts')\n",
    "ax.set_title('Slice A')\n",
    "# plt.savefig('reasonable_pc_sliceA.pdf', dpi = 300, bbox_inches = \"tight\")\n",
    "plt.show()"
   ]
  }
 ],
 "metadata": {
  "kernelspec": {
   "display_name": "Python 3",
   "language": "python",
   "name": "python3"
  },
  "language_info": {
   "codemirror_mode": {
    "name": "ipython",
    "version": 3
   },
   "file_extension": ".py",
   "mimetype": "text/x-python",
   "name": "python",
   "nbconvert_exporter": "python",
   "pygments_lexer": "ipython3",
   "version": "3.8.3"
  },
  "toc": {
   "base_numbering": 1,
   "nav_menu": {},
   "number_sections": true,
   "sideBar": true,
   "skip_h1_title": false,
   "title_cell": "Table of Contents",
   "title_sidebar": "Contents",
   "toc_cell": false,
   "toc_position": {},
   "toc_section_display": true,
   "toc_window_display": false
  }
 },
 "nbformat": 4,
 "nbformat_minor": 4
}
