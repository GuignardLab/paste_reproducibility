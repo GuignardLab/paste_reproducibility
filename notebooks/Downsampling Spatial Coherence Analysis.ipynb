{
 "cells": [
  {
   "cell_type": "code",
   "execution_count": 1,
   "metadata": {},
   "outputs": [],
   "source": [
    "import math\n",
    "import random\n",
    "import pandas as pd\n",
    "import numpy as np\n",
    "import seaborn as sns\n",
    "import matplotlib.pyplot as plt\n",
    "from matplotlib import style\n",
    "import matplotlib as mpl\n",
    "import paste\n",
    "import scanpy as sc\n",
    "import anndata\n",
    "from sklearn.decomposition import NMF\n",
    "import scanorama\n",
    "import os\n",
    "style.use('seaborn-dark')\n",
    "mpl.rc('xtick', labelsize=14) \n",
    "mpl.rc('ytick', labelsize=14) "
   ]
  },
  {
   "cell_type": "code",
   "execution_count": 2,
   "metadata": {},
   "outputs": [],
   "source": [
    "def load_layer(patient, sample, metadata):\n",
    "    \"\"\"\n",
    "    Return Layer object of Patient, Sample\n",
    "    \"\"\"\n",
    "    layer = \"../data/P\" + str(patient) + \"/layer\" + str(sample) + \".tsv\"\n",
    "    coor_path = \"../data/P\" + str(patient) + \"/layer\" + str(sample) + \"_coordinates.tsv\"\n",
    "    adata = anndata.read_csv(layer, delimiter=\"\\t\")\n",
    "\n",
    "    # Data pre-processing\n",
    "    coor = pd.read_csv(coor_path, sep=\"\\t\").iloc[:,:2]\n",
    "    coor_index = []\n",
    "    for pair in coor.values:\n",
    "        coor_index.append('x'.join(str(e) for e in pair))\n",
    "    coor.index = coor_index\n",
    "    # The metadata, coordinates, and gene expression might have missing cells between them\n",
    "    idx = paste.intersect(coor_index, adata.obs.index)\n",
    "    \n",
    "    df = metadata[metadata['patient'] == patient]\n",
    "    df = df[df['sample'] == sample]\n",
    "    \n",
    "    meta_idx = []\n",
    "    for i in df.index:\n",
    "        meta_idx.append(i.split('_')[1])\n",
    "    idx = paste.intersect(idx, meta_idx)\n",
    "    \n",
    "    adata = adata[idx, :]\n",
    "    adata.obsm['spatial'] = np.array(coor.loc[idx, :])\n",
    "    metadata_idx = ['P' + str(patient) + '_' + i + '_' + str(sample) for i in idx]\n",
    "    adata.obs['original_clusters'] = list(metadata.loc[metadata_idx, 'SCT_snn_res.0.8'])\n",
    "    return adata"
   ]
  },
  {
   "cell_type": "code",
   "execution_count": 3,
   "metadata": {},
   "outputs": [],
   "source": [
    "metadata_path =  \"../data/ST_all_metadata.txt\"\n",
    "metadata = pd.read_csv(metadata_path, sep=\"\\t\", index_col=0)"
   ]
  },
  {
   "cell_type": "code",
   "execution_count": 4,
   "metadata": {},
   "outputs": [],
   "source": [
    "adata_2_1 = load_layer(2, 1, metadata)\n",
    "adata_2_2 = load_layer(2, 2, metadata)\n",
    "adata_2_3 = load_layer(2, 3, metadata)\n",
    "\n",
    "patient_2 = [adata_2_1, adata_2_2, adata_2_3]\n",
    "\n",
    "for adata in patient_2:\n",
    "    sc.pp.filter_genes(adata, min_cells = 15, inplace = True)\n",
    "    sc.pp.filter_cells(adata, min_genes= 100, inplace= True)"
   ]
  },
  {
   "cell_type": "markdown",
   "metadata": {},
   "source": [
    "# Run Analysis"
   ]
  },
  {
   "cell_type": "code",
   "execution_count": 5,
   "metadata": {},
   "outputs": [],
   "source": [
    "import networkx as nx\n",
    "from scipy.spatial import distance_matrix\n",
    "\n",
    "def create_graph(adata, degree = 4):\n",
    "        \"\"\"\n",
    "        Converts spatial coordinates into graph using networkx library.\n",
    "        \n",
    "        param: adata - ST Slice \n",
    "        param: degree - number of edges per vertex\n",
    "\n",
    "        return: 1) G - networkx graph\n",
    "                2) node_dict - dictionary mapping nodes to spots\n",
    "        \"\"\"\n",
    "        D = distance_matrix(adata.obsm['spatial'], adata.obsm['spatial'])\n",
    "        # Get column indexes of the degree+1 lowest values per row\n",
    "        idx = np.argsort(D, 1)[:, 0:degree+1]\n",
    "        # Remove first column since it results in self loops\n",
    "        idx = idx[:, 1:]\n",
    "\n",
    "        G = nx.Graph()\n",
    "        for r in range(len(idx)):\n",
    "            for c in idx[r]:\n",
    "                G.add_edge(r, c)\n",
    "\n",
    "        node_dict = dict(zip(range(adata.shape[0]), adata.obs.index))\n",
    "        return G, node_dict\n",
    "    \n",
    "def generate_graph_from_labels(adata, labels_dict):\n",
    "    \"\"\"\n",
    "    Creates and returns the graph and dictionary {node: cluster_label} for specified layer\n",
    "    \"\"\"\n",
    "    \n",
    "    g, node_to_spot = create_graph(adata)\n",
    "    spot_to_cluster = labels_dict\n",
    "\n",
    "    # remove any nodes that are not mapped to a cluster\n",
    "    removed_nodes = []\n",
    "    for node in node_to_spot.keys():\n",
    "        if (node_to_spot[node] not in spot_to_cluster.keys()):\n",
    "            removed_nodes.append(node)\n",
    "\n",
    "    for node in removed_nodes:\n",
    "        del node_to_spot[node]\n",
    "        g.remove_node(node)\n",
    "        \n",
    "    labels = dict(zip(g.nodes(), [spot_to_cluster[node_to_spot[node]] for node in g.nodes()]))\n",
    "    return g, labels\n",
    "\n",
    "def spatial_coherence_score(graph, labels):\n",
    "    g, l = graph, labels\n",
    "    true_entropy = spatial_entropy(g, l)\n",
    "    entropies = []\n",
    "    for i in range(1000):\n",
    "        new_l = list(l.values())\n",
    "        random.shuffle(new_l)\n",
    "        labels = dict(zip(l.keys(), new_l))\n",
    "        entropies.append(spatial_entropy(g, labels))\n",
    "        \n",
    "    return (true_entropy - np.mean(entropies))/np.std(entropies)\n",
    "\n",
    "def spatial_entropy(g, labels):\n",
    "    \"\"\"\n",
    "    Calculates spatial entropy of graph  \n",
    "    \"\"\"\n",
    "    # construct contiguity matrix C which counts pairs of cluster edges\n",
    "    cluster_names = np.unique(list(labels.values()))\n",
    "    C = pd.DataFrame(0,index=cluster_names, columns=cluster_names)\n",
    "\n",
    "    for e in g.edges():\n",
    "        C[labels[e[0]]][labels[e[1]]] += 1\n",
    "\n",
    "    # calculate entropy from C\n",
    "    C_sum = C.values.sum()\n",
    "    H = 0\n",
    "    for i in range(len(cluster_names)):\n",
    "        for j in range(i, len(cluster_names)):\n",
    "            if (i == j):\n",
    "                z = C[cluster_names[i]][cluster_names[j]]\n",
    "            else:\n",
    "                z = C[cluster_names[i]][cluster_names[j]] + C[cluster_names[j]][cluster_names[i]]\n",
    "            if z != 0:\n",
    "                H += -(z/C_sum)*math.log(z/C_sum)\n",
    "    return H"
   ]
  },
  {
   "cell_type": "code",
   "execution_count": 6,
   "metadata": {},
   "outputs": [],
   "source": [
    "def cluster_dict(metadata, patient, sample):\n",
    "    \"\"\"\n",
    "    Returns dictionary of {spot: cluster label}\n",
    "    \"\"\"\n",
    "    df = metadata[metadata['patient'] == patient]\n",
    "    df = df[df['sample'] == sample]\n",
    "    x = df['ads_x']\n",
    "    y = df['ads_y']\n",
    "    spot_index = []\n",
    "    for (spot1, spot2) in zip(x, y):\n",
    "        spot_index.append(str(round(spot1)) + 'x' + str(round(spot2)))\n",
    "    return dict(zip(spot_index, df['SCT_snn_res.0.8']))"
   ]
  },
  {
   "cell_type": "markdown",
   "metadata": {},
   "source": [
    "## Using ST Metadata"
   ]
  },
  {
   "cell_type": "markdown",
   "metadata": {},
   "source": [
    "### Manual Input Example"
   ]
  },
  {
   "cell_type": "code",
   "execution_count": 39,
   "metadata": {},
   "outputs": [],
   "source": [
    "df = pd.read_csv('./SCC-clusters-patient2-down-0-5.csv')"
   ]
  },
  {
   "cell_type": "code",
   "execution_count": 40,
   "metadata": {},
   "outputs": [
    {
     "data": {
      "text/plain": [
       "-27.150697754163488"
      ]
     },
     "execution_count": 40,
     "metadata": {},
     "output_type": "execute_result"
    }
   ],
   "source": [
    "new_df = df[df['which_slice'] == 1]\n",
    "c = dict(zip([x.split('_')[0] for x in new_df['spot_ids']], new_df['cluster_labels']))\n",
    "g, l = generate_graph_from_labels(adata_2_1, c)\n",
    "spatial_coherence_score(g, l)"
   ]
  },
  {
   "cell_type": "code",
   "execution_count": 41,
   "metadata": {},
   "outputs": [
    {
     "data": {
      "text/plain": [
       "-25.07390536128164"
      ]
     },
     "execution_count": 41,
     "metadata": {},
     "output_type": "execute_result"
    }
   ],
   "source": [
    "new_df = df[df['which_slice'] == 2]\n",
    "c = dict(zip([x.split('_')[0] for x in new_df['spot_ids']], new_df['cluster_labels']))\n",
    "g, l = generate_graph_from_labels(adata_2_2, c)\n",
    "spatial_coherence_score(g, l)"
   ]
  },
  {
   "cell_type": "code",
   "execution_count": 42,
   "metadata": {},
   "outputs": [
    {
     "data": {
      "text/plain": [
       "-28.518282337397665"
      ]
     },
     "execution_count": 42,
     "metadata": {},
     "output_type": "execute_result"
    }
   ],
   "source": [
    "new_df = df[df['which_slice'] == 3]\n",
    "c = dict(zip([x.split('_')[0] for x in new_df['spot_ids']], new_df['cluster_labels']))\n",
    "g, l = generate_graph_from_labels(adata_2_3, c)\n",
    "spatial_coherence_score(g, l)"
   ]
  },
  {
   "cell_type": "markdown",
   "metadata": {},
   "source": [
    "### Automated Example"
   ]
  },
  {
   "cell_type": "code",
   "execution_count": 10,
   "metadata": {},
   "outputs": [],
   "source": [
    "filenames = os.listdir('./scc-p2-downsampled/')\n",
    "spatial_scores = []\n",
    "for f in filenames:\n",
    "    df = pd.read_csv('./scc-p2-downsampled/' + f)\n",
    "    s = []\n",
    "    for i in [1, 2, 3]:\n",
    "        new_df = df[df['which_slice'] == i]\n",
    "        c = dict(zip([x.split('_')[0] for x in new_df['spot_ids']], new_df['cluster_labels']))\n",
    "        g, l = generate_graph_from_labels(patient_2[i- 1], c)\n",
    "        s.append(spatial_coherence_score(g, l))\n",
    "    spatial_scores.append(s)"
   ]
  },
  {
   "cell_type": "code",
   "execution_count": 14,
   "metadata": {},
   "outputs": [],
   "source": [
    "results = pd.DataFrame(spatial_scores, index = filenames, columns = ['Slice A', 'Slice B', 'Slice C']).sort_index()"
   ]
  },
  {
   "cell_type": "code",
   "execution_count": 15,
   "metadata": {},
   "outputs": [],
   "source": [
    "results.to_csv('./results/scc-p2-downsampled/spatial_scores.csv')"
   ]
  },
  {
   "cell_type": "markdown",
   "metadata": {},
   "source": [
    "### Plot"
   ]
  },
  {
   "cell_type": "code",
   "execution_count": 2,
   "metadata": {},
   "outputs": [],
   "source": [
    "spatial_df = pd.read_csv('./results/scc-p2-downsampled/spatial_scores.csv', index_col= 0)"
   ]
  },
  {
   "cell_type": "code",
   "execution_count": 10,
   "metadata": {},
   "outputs": [],
   "source": [
    "txt = \"SCC-clusters-patient2-down-\"\n",
    "idxs = []\n",
    "for i in [0.2, 0.4, 0.6, 0.8, 0.9]:\n",
    "    idxs.append(txt + str(i) + \".csv\")\n",
    "spatial_df = spatial_df.drop(idxs)\n",
    "    "
   ]
  },
  {
   "cell_type": "code",
   "execution_count": 12,
   "metadata": {},
   "outputs": [
    {
     "data": {
      "image/png": "[encoded data removed]",
      "text/plain": [
       "<Figure size 432x288 with 1 Axes>"
      ]
     },
     "metadata": {},
     "output_type": "display_data"
    }
   ],
   "source": [
    "plt.figure(figsize= (6, 4))\n",
    "\n",
    "colors = [ \"#8766c4\", \"#dda0dd\", \"#b19cd9\"]\n",
    "bar_label = spatial_df.shape[0]*['Slice A', 'Slice B', 'Slice C']\n",
    "labels = []\n",
    "for idx in spatial_df.index[:-1]:\n",
    "    n = idx.split('-')[-1:]\n",
    "    n = n[0].replace('.csv', '')\n",
    "    for i in range(spatial_df.shape[1]):\n",
    "        labels.append(n)\n",
    "labels += spatial_df.shape[1]*['1']\n",
    "scores = np.abs(spatial_df.values.flatten())\n",
    "ax2 = sns.barplot(x=labels, y = scores, hue=bar_label, palette=sns.color_palette(colors))\n",
    "ax2.set_facecolor('white')\n",
    "ax2.patch.set_edgecolor('black')\n",
    "ax2.patch.set_linewidth('1')  \n",
    "ax2.set_ylabel(\"Spatial Coherence Score\", fontsize = 14)\n",
    "ax2.set_xlabel(\"Proportion of Total Reads Sampled\", fontsize = 14)\n",
    "plt.legend(frameon=True, edgecolor='black', fontsize = 12)\n",
    "# plt.savefig('cSCC_spatial_entropy.pdf', dpi = 300, bbox_inches = \"tight\")"
   ]
  },
  {
   "cell_type": "markdown",
   "metadata": {},
   "source": [
    "# Generate Spatial vs Accuracy Plot"
   ]
  },
  {
   "cell_type": "code",
   "execution_count": 19,
   "metadata": {},
   "outputs": [],
   "source": [
    "def ot_analysis(sliceA, sliceB, alpha, spot_to_cluster_A, spot_to_cluster_B):\n",
    "    \"\"\"\n",
    "    Calculates optimal transport alignment and returns % of spots preserved among clusters.\n",
    "    \"\"\"\n",
    "    # Calculate optimal transport aligment\n",
    "    G = paste.pairwise_align(sliceA, sliceB, alpha)\n",
    "    \n",
    "    spotsA, spotsB = np.nonzero(G)\n",
    "\n",
    "    s = 0\n",
    "    for i in range(len(spotsA)):\n",
    "        # get the clusters corresponding to each spot\n",
    "        a = spot_to_cluster_A[sliceA.obs_names[spotsA[i]]]\n",
    "        b = spot_to_cluster_B[sliceB.obs_names[spotsB[i]]]\n",
    "        if a == b:\n",
    "            s += G[spotsA[i]][spotsB[i]]\n",
    "    return s\n",
    "\n"
   ]
  },
  {
   "cell_type": "code",
   "execution_count": null,
   "metadata": {},
   "outputs": [],
   "source": [
    "def getCluster(index, patient, sample, layer, metadata):\n",
    "    \"\"\"\n",
    "    Returns cluster label of a specific spot in the layer. If cluster label does not exist, return -1.\n",
    "    \"\"\"\n",
    "    spot_index = 'P' + str(patient) + '_' + layer.gene_exp.index[index] + '_' + str(sample)\n",
    "    if spot_index in metadata.index:\n",
    "        return metadata.loc[spot_index]['SCT_snn_res.0.8']\n",
    "    else:\n",
    "        return -1"
   ]
  },
  {
   "cell_type": "code",
   "execution_count": null,
   "metadata": {},
   "outputs": [],
   "source": [
    "filenames = os.listdir('./scc-p2-downsampled/')\n",
    "accuracy_scores = []\n",
    "for f in filenames:\n",
    "    a = []\n",
    "    df = pd.read_csv('./scc-p2-downsampled/' + f)\n",
    "    new_df = df[df['which_slice'] == 1]\n",
    "    c_1 = dict(zip([x.split('_')[0] for x in new_df['spot_ids']], new_df['cluster_labels']))\n",
    "    new_df = df[df['which_slice'] == 2]\n",
    "    c_2 = dict(zip([x.split('_')[0] for x in new_df['spot_ids']], new_df['cluster_labels']))\n",
    "    new_df = df[df['which_slice'] == 3]\n",
    "    c_3 = dict(zip([x.split('_')[0] for x in new_df['spot_ids']], new_df['cluster_labels']))\n",
    "    a.append(ot_analysis(adata_2_1, adata_2_2, 0.1, c_1, c_2))\n",
    "    a.append(ot_analysis(adata_2_2, adata_2_3, 0.1, c_2, c_3))\n",
    "    accuracy_scores.append(a)"
   ]
  },
  {
   "cell_type": "code",
   "execution_count": null,
   "metadata": {},
   "outputs": [],
   "source": [
    "results = pd.DataFrame(accuracy_scores, index = filenames, columns = ['Slice A, Slice B', 'Slice B, Slice C']).sort_index()"
   ]
  },
  {
   "cell_type": "code",
   "execution_count": null,
   "metadata": {},
   "outputs": [],
   "source": [
    "results.to_csv('./results/scc-p2-downsampled/accuracy_scores.csv')"
   ]
  },
  {
   "cell_type": "code",
   "execution_count": 39,
   "metadata": {},
   "outputs": [],
   "source": [
    "c_1 = dict(adata_2_1.obs['original_clusters'])\n",
    "c_2 = dict(adata_2_2.obs['original_clusters'])\n",
    "c_3 = dict(adata_2_3.obs['original_clusters'])"
   ]
  },
  {
   "cell_type": "markdown",
   "metadata": {},
   "source": [
    "### Plot"
   ]
  },
  {
   "cell_type": "code",
   "execution_count": 13,
   "metadata": {},
   "outputs": [],
   "source": [
    "accuracy_df = pd.read_csv('./results/scc-p2-downsampled/accuracy_scores.csv', index_col= 0).sort_index(ascending = False)"
   ]
  },
  {
   "cell_type": "code",
   "execution_count": 16,
   "metadata": {},
   "outputs": [],
   "source": [
    "txt = \"SCC-clusters-patient2-down-\"\n",
    "idxs = []\n",
    "for i in [0.2, 0.4, 0.6, 0.8, 0.9]:\n",
    "    idxs.append(txt + str(i) + \".csv\")\n",
    "accuracy_df = accuracy_df.drop(idxs)"
   ]
  },
  {
   "cell_type": "code",
   "execution_count": 19,
   "metadata": {},
   "outputs": [
    {
     "name": "stderr",
     "output_type": "stream",
     "text": [
      "/home/max/Programs/lib/python3.7/site-packages/seaborn/_decorators.py:43: FutureWarning: Pass the following variables as keyword args: x, y. From version 0.12, the only valid positional argument will be `data`, and passing other arguments without an explicit keyword will result in an error or misinterpretation.\n",
      "  FutureWarning\n"
     ]
    },
    {
     "data": {
      "text/plain": [
       "(array([0. , 0.2, 0.4, 0.6, 0.8, 1. ]), <a list of 6 Text yticklabel objects>)"
      ]
     },
     "execution_count": 19,
     "metadata": {},
     "output_type": "execute_result"
    },
    {
     "data": {
      "image/png": "[encoded data removed]",
      "text/plain": [
       "<Figure size 432x288 with 1 Axes>"
      ]
     },
     "metadata": {},
     "output_type": "display_data"
    }
   ],
   "source": [
    "plt.figure(figsize= (6, 4))\n",
    "\n",
    "z = []\n",
    "for i in range(spatial_df.shape[0]):\n",
    "    for j in range(spatial_df.shape[1] - 1):\n",
    "        z.append((spatial_df.iloc[i][j] + spatial_df.iloc[i][j+1])/2)\n",
    "\n",
    "p = accuracy_df.values.flatten()\n",
    "\n",
    "labels = []\n",
    "labels += accuracy_df.shape[1]*['1']\n",
    "for idx in accuracy_df.index[1:]:\n",
    "    n = idx.split('-')[-1:]\n",
    "    n = n[0].replace('.csv', '')\n",
    "    for i in range(accuracy_df.shape[1]):\n",
    "        labels.append(n)\n",
    "\n",
    "\n",
    "palette = sns.color_palette(n_colors= accuracy_df.shape[0])\n",
    "\n",
    "ax = sns.scatterplot(np.flip(np.abs(z)), p, hue = labels, palette=palette)\n",
    "plt.legend(loc='center left', bbox_to_anchor=(1, 0.5), frameon=True, edgecolor='black', fontsize= 14)\n",
    "ax.set_facecolor('white')\n",
    "ax.patch.set_edgecolor('black')\n",
    "ax.patch.set_linewidth('1')  \n",
    "ax.set_ylim(0, 1)\n",
    "ax.set_xlabel(\"Spatial Coherence Score\", fontsize = 14)\n",
    "ax.set_ylabel(\"Proportion of Spots Correctly \\n Mapped within Clusters\", fontsize = 14)\n",
    "plt.xticks(fontsize= 14)\n",
    "plt.yticks(fontsize= 14)\n",
    "\n",
    "# plt.savefig('cSCC_downsample_spatial_entropy_vs_accuracy.pdf', dpi = 300, bbox_inches = \"tight\")"
   ]
  }
 ],
 "metadata": {
  "kernelspec": {
   "display_name": "Python 3",
   "language": "python",
   "name": "python3"
  },
  "language_info": {
   "codemirror_mode": {
    "name": "ipython",
    "version": 3
   },
   "file_extension": ".py",
   "mimetype": "text/x-python",
   "name": "python",
   "nbconvert_exporter": "python",
   "pygments_lexer": "ipython3",
   "version": "3.7.6"
  },
  "toc": {
   "base_numbering": 1,
   "nav_menu": {},
   "number_sections": true,
   "sideBar": true,
   "skip_h1_title": false,
   "title_cell": "Table of Contents",
   "title_sidebar": "Contents",
   "toc_cell": false,
   "toc_position": {},
   "toc_section_display": true,
   "toc_window_display": true
  }
 },
 "nbformat": 4,
 "nbformat_minor": 4
}
